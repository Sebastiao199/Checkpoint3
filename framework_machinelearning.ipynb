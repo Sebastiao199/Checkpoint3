{
  "nbformat": 4,
  "nbformat_minor": 0,
  "metadata": {
    "colab": {
      "provenance": [],
      "authorship_tag": "ABX9TyOvE9VNfRzWVlLXYYrSolZd",
      "include_colab_link": true
    },
    "kernelspec": {
      "name": "python3",
      "display_name": "Python 3"
    },
    "language_info": {
      "name": "python"
    }
  },
  "cells": [
    {
      "cell_type": "markdown",
      "metadata": {
        "id": "view-in-github",
        "colab_type": "text"
      },
      "source": [
        "<a href=\"https://colab.research.google.com/github/Sebastiao199/Checkpoint3/blob/main/framework_machinelearning.ipynb\" target=\"_parent\"><img src=\"https://colab.research.google.com/assets/colab-badge.svg\" alt=\"Open In Colab\"/></a>"
      ]
    },
    {
      "cell_type": "code",
      "execution_count": null,
      "metadata": {
        "id": "xDBGMTF-AgOI"
      },
      "outputs": [],
      "source": [
        "import pandas as pd\n",
        "from dateutil.parser import parse\n",
        "import re\n",
        "import matplotlib.pyplot as plt\n",
        "import seaborn as sns\n",
        "import numpy as np \n",
        "import plotly.express as px\n",
        "import plotly.graph_objects as go\n",
        "from plotly.subplots import make_subplots\n",
        "\n",
        "from sklearn.metrics import SCORERS\n",
        "from sklearn.metrics import mean_squared_error\n",
        "from sklearn.model_selection import GridSearchCV\n",
        "from sklearn.model_selection import RandomizedSearchCV\n",
        "from sklearn.model_selection import train_test_split\n",
        "from sklearn.tree import DecisionTreeRegressor\n",
        "from sklearn.neighbors import KNeighborsRegressor\n",
        "from sklearn.preprocessing import StandardScaler\n",
        "from sklearn.linear_model import LinearRegression\n",
        "from sklearn.svm import SVR\n",
        "from sklearn.pipeline import make_pipeline"
      ]
    },
    {
      "cell_type": "code",
      "source": [
        "link = \"https://github.com/murpi/wilddata/raw/master/wine.zip\"\n",
        "df = pd.read_csv(link)"
      ],
      "metadata": {
        "id": "uo2sHoKaAy-4"
      },
      "execution_count": null,
      "outputs": []
    },
    {
      "cell_type": "code",
      "source": [
        "df.dropna(subset = [\"price\", \"country\"], inplace=True)"
      ],
      "metadata": {
        "id": "hKgulpNAAsfV"
      },
      "execution_count": null,
      "outputs": []
    },
    {
      "cell_type": "code",
      "source": [
        "def get_year_from_title(title):\n",
        "  list_years = re.findall(r'\\b\\d{4}\\b', title)\n",
        "  if len(list_years) > 1:\n",
        "    list_years = max(list_years)\n",
        "  return ''.join(list_years)\n",
        "  \n",
        "df['year'] = df['title'].apply(get_year_from_title)\n",
        "df['year']"
      ],
      "metadata": {
        "colab": {
          "base_uri": "https://localhost:8080/"
        },
        "id": "NDM01lopAuDz",
        "outputId": "14f8b973-b35a-4a19-e56e-62720508d463"
      },
      "execution_count": null,
      "outputs": [
        {
          "output_type": "execute_result",
          "data": {
            "text/plain": [
              "1         2017\n",
              "2         2019\n",
              "3         2019\n",
              "4         2018\n",
              "5         2017\n",
              "          ... \n",
              "129952    2019\n",
              "129953    2010\n",
              "129954    2019\n",
              "129955    2018\n",
              "129956    2018\n",
              "Name: year, Length: 120905, dtype: object"
            ]
          },
          "metadata": {},
          "execution_count": 4
        }
      ]
    },
    {
      "cell_type": "code",
      "source": [
        "df.corr()"
      ],
      "metadata": {
        "colab": {
          "base_uri": "https://localhost:8080/",
          "height": 112
        },
        "id": "kueocQ2wEi5Y",
        "outputId": "571705ed-747f-4527-b052-2bfa88c5442a"
      },
      "execution_count": null,
      "outputs": [
        {
          "output_type": "execute_result",
          "data": {
            "text/plain": [
              "          points     price\n",
              "points  1.000000  0.473551\n",
              "price   0.473551  1.000000"
            ],
            "text/html": [
              "\n",
              "  <div id=\"df-a20a9dd3-774f-46ab-b64e-72d6f9cc7334\">\n",
              "    <div class=\"colab-df-container\">\n",
              "      <div>\n",
              "<style scoped>\n",
              "    .dataframe tbody tr th:only-of-type {\n",
              "        vertical-align: middle;\n",
              "    }\n",
              "\n",
              "    .dataframe tbody tr th {\n",
              "        vertical-align: top;\n",
              "    }\n",
              "\n",
              "    .dataframe thead th {\n",
              "        text-align: right;\n",
              "    }\n",
              "</style>\n",
              "<table border=\"1\" class=\"dataframe\">\n",
              "  <thead>\n",
              "    <tr style=\"text-align: right;\">\n",
              "      <th></th>\n",
              "      <th>points</th>\n",
              "      <th>price</th>\n",
              "    </tr>\n",
              "  </thead>\n",
              "  <tbody>\n",
              "    <tr>\n",
              "      <th>points</th>\n",
              "      <td>1.000000</td>\n",
              "      <td>0.473551</td>\n",
              "    </tr>\n",
              "    <tr>\n",
              "      <th>price</th>\n",
              "      <td>0.473551</td>\n",
              "      <td>1.000000</td>\n",
              "    </tr>\n",
              "  </tbody>\n",
              "</table>\n",
              "</div>\n",
              "      <button class=\"colab-df-convert\" onclick=\"convertToInteractive('df-a20a9dd3-774f-46ab-b64e-72d6f9cc7334')\"\n",
              "              title=\"Convert this dataframe to an interactive table.\"\n",
              "              style=\"display:none;\">\n",
              "        \n",
              "  <svg xmlns=\"http://www.w3.org/2000/svg\" height=\"24px\"viewBox=\"0 0 24 24\"\n",
              "       width=\"24px\">\n",
              "    <path d=\"M0 0h24v24H0V0z\" fill=\"none\"/>\n",
              "    <path d=\"M18.56 5.44l.94 2.06.94-2.06 2.06-.94-2.06-.94-.94-2.06-.94 2.06-2.06.94zm-11 1L8.5 8.5l.94-2.06 2.06-.94-2.06-.94L8.5 2.5l-.94 2.06-2.06.94zm10 10l.94 2.06.94-2.06 2.06-.94-2.06-.94-.94-2.06-.94 2.06-2.06.94z\"/><path d=\"M17.41 7.96l-1.37-1.37c-.4-.4-.92-.59-1.43-.59-.52 0-1.04.2-1.43.59L10.3 9.45l-7.72 7.72c-.78.78-.78 2.05 0 2.83L4 21.41c.39.39.9.59 1.41.59.51 0 1.02-.2 1.41-.59l7.78-7.78 2.81-2.81c.8-.78.8-2.07 0-2.86zM5.41 20L4 18.59l7.72-7.72 1.47 1.35L5.41 20z\"/>\n",
              "  </svg>\n",
              "      </button>\n",
              "      \n",
              "  <style>\n",
              "    .colab-df-container {\n",
              "      display:flex;\n",
              "      flex-wrap:wrap;\n",
              "      gap: 12px;\n",
              "    }\n",
              "\n",
              "    .colab-df-convert {\n",
              "      background-color: #E8F0FE;\n",
              "      border: none;\n",
              "      border-radius: 50%;\n",
              "      cursor: pointer;\n",
              "      display: none;\n",
              "      fill: #1967D2;\n",
              "      height: 32px;\n",
              "      padding: 0 0 0 0;\n",
              "      width: 32px;\n",
              "    }\n",
              "\n",
              "    .colab-df-convert:hover {\n",
              "      background-color: #E2EBFA;\n",
              "      box-shadow: 0px 1px 2px rgba(60, 64, 67, 0.3), 0px 1px 3px 1px rgba(60, 64, 67, 0.15);\n",
              "      fill: #174EA6;\n",
              "    }\n",
              "\n",
              "    [theme=dark] .colab-df-convert {\n",
              "      background-color: #3B4455;\n",
              "      fill: #D2E3FC;\n",
              "    }\n",
              "\n",
              "    [theme=dark] .colab-df-convert:hover {\n",
              "      background-color: #434B5C;\n",
              "      box-shadow: 0px 1px 3px 1px rgba(0, 0, 0, 0.15);\n",
              "      filter: drop-shadow(0px 1px 2px rgba(0, 0, 0, 0.3));\n",
              "      fill: #FFFFFF;\n",
              "    }\n",
              "  </style>\n",
              "\n",
              "      <script>\n",
              "        const buttonEl =\n",
              "          document.querySelector('#df-a20a9dd3-774f-46ab-b64e-72d6f9cc7334 button.colab-df-convert');\n",
              "        buttonEl.style.display =\n",
              "          google.colab.kernel.accessAllowed ? 'block' : 'none';\n",
              "\n",
              "        async function convertToInteractive(key) {\n",
              "          const element = document.querySelector('#df-a20a9dd3-774f-46ab-b64e-72d6f9cc7334');\n",
              "          const dataTable =\n",
              "            await google.colab.kernel.invokeFunction('convertToInteractive',\n",
              "                                                     [key], {});\n",
              "          if (!dataTable) return;\n",
              "\n",
              "          const docLinkHtml = 'Like what you see? Visit the ' +\n",
              "            '<a target=\"_blank\" href=https://colab.research.google.com/notebooks/data_table.ipynb>data table notebook</a>'\n",
              "            + ' to learn more about interactive tables.';\n",
              "          element.innerHTML = '';\n",
              "          dataTable['output_type'] = 'display_data';\n",
              "          await google.colab.output.renderOutput(dataTable, element);\n",
              "          const docLink = document.createElement('div');\n",
              "          docLink.innerHTML = docLinkHtml;\n",
              "          element.appendChild(docLink);\n",
              "        }\n",
              "      </script>\n",
              "    </div>\n",
              "  </div>\n",
              "  "
            ]
          },
          "metadata": {},
          "execution_count": 5
        }
      ]
    },
    {
      "cell_type": "code",
      "source": [
        "df_noyear = df[df.year == '']\n",
        "df_noyear.info()"
      ],
      "metadata": {
        "colab": {
          "base_uri": "https://localhost:8080/"
        },
        "id": "4phgydurgxsw",
        "outputId": "aa3d2816-fa13-4e44-fb55-3960c1826e08"
      },
      "execution_count": null,
      "outputs": [
        {
          "output_type": "stream",
          "name": "stdout",
          "text": [
            "<class 'pandas.core.frame.DataFrame'>\n",
            "Int64Index: 4137 entries, 63 to 129915\n",
            "Data columns (total 14 columns):\n",
            " #   Column                 Non-Null Count  Dtype  \n",
            "---  ------                 --------------  -----  \n",
            " 0   country                4137 non-null   object \n",
            " 1   description            4137 non-null   object \n",
            " 2   designation            3844 non-null   object \n",
            " 3   points                 4137 non-null   int64  \n",
            " 4   price                  4137 non-null   float64\n",
            " 5   province               4137 non-null   object \n",
            " 6   region_1               3685 non-null   object \n",
            " 7   region_2               752 non-null    object \n",
            " 8   taster_name            3206 non-null   object \n",
            " 9   taster_twitter_handle  3103 non-null   object \n",
            " 10  title                  4137 non-null   object \n",
            " 11  variety                4137 non-null   object \n",
            " 12  winery                 4137 non-null   object \n",
            " 13  year                   4137 non-null   object \n",
            "dtypes: float64(1), int64(1), object(12)\n",
            "memory usage: 484.8+ KB\n"
          ]
        }
      ]
    },
    {
      "cell_type": "code",
      "source": [
        "df = df.drop(df[df.year == ''].index)\n",
        "df.info()"
      ],
      "metadata": {
        "colab": {
          "base_uri": "https://localhost:8080/"
        },
        "id": "YGpWIcChgJ4B",
        "outputId": "729894c9-b39d-4671-eafb-d41a6e043a05"
      },
      "execution_count": null,
      "outputs": [
        {
          "output_type": "stream",
          "name": "stdout",
          "text": [
            "<class 'pandas.core.frame.DataFrame'>\n",
            "Int64Index: 116768 entries, 1 to 129956\n",
            "Data columns (total 14 columns):\n",
            " #   Column                 Non-Null Count   Dtype  \n",
            "---  ------                 --------------   -----  \n",
            " 0   country                116768 non-null  object \n",
            " 1   description            116768 non-null  object \n",
            " 2   designation            82297 non-null   object \n",
            " 3   points                 116768 non-null  int64  \n",
            " 4   price                  116768 non-null  float64\n",
            " 5   province               116768 non-null  object \n",
            " 6   region_1               97704 non-null   object \n",
            " 7   region_2               49540 non-null   object \n",
            " 8   taster_name            93203 non-null   object \n",
            " 9   taster_twitter_handle  88386 non-null   object \n",
            " 10  title                  116768 non-null  object \n",
            " 11  variety                116767 non-null  object \n",
            " 12  winery                 116768 non-null  object \n",
            " 13  year                   116768 non-null  object \n",
            "dtypes: float64(1), int64(1), object(12)\n",
            "memory usage: 13.4+ MB\n"
          ]
        }
      ]
    },
    {
      "cell_type": "code",
      "source": [
        "# df['year']int(string)"
      ],
      "metadata": {
        "id": "dFL3NcOMHMMt"
      },
      "execution_count": null,
      "outputs": []
    },
    {
      "cell_type": "code",
      "source": [
        "df['year'] = df['year'].apply(lambda x: x if x=='' else int(x))\n",
        "df.dtypes"
      ],
      "metadata": {
        "colab": {
          "base_uri": "https://localhost:8080/"
        },
        "id": "zGhC6shdbksp",
        "outputId": "3eb9eb8d-aa6a-4efc-9e98-49cab6cb3362"
      },
      "execution_count": null,
      "outputs": [
        {
          "output_type": "execute_result",
          "data": {
            "text/plain": [
              "country                   object\n",
              "description               object\n",
              "designation               object\n",
              "points                     int64\n",
              "price                    float64\n",
              "province                  object\n",
              "region_1                  object\n",
              "region_2                  object\n",
              "taster_name               object\n",
              "taster_twitter_handle     object\n",
              "title                     object\n",
              "variety                   object\n",
              "winery                    object\n",
              "year                       int64\n",
              "dtype: object"
            ]
          },
          "metadata": {},
          "execution_count": 8
        }
      ]
    },
    {
      "cell_type": "code",
      "source": [
        "X = df[['points', 'year']]\n",
        "y = df['price']\n",
        "\n",
        "X_train, X_test, y_train, y_test = train_test_split(X, y, train_size = 0.75, random_state=19)"
      ],
      "metadata": {
        "id": "A4W_OKc4ET8C"
      },
      "execution_count": null,
      "outputs": []
    },
    {
      "cell_type": "code",
      "source": [
        "# Train the scaler, which standarizes all the features to have mean=0 and unit variance\n",
        "sc = StandardScaler()\n",
        "sc.fit(X_train)\n",
        "\n",
        "# Apply the scaler to the X training data\n",
        "X_train_std = sc.transform(X_train)\n",
        "\n",
        "# Apply the SAME scaler to the X test data\n",
        "X_test_std = sc.transform(X_test)"
      ],
      "metadata": {
        "id": "2ekhqWcKG9kt"
      },
      "execution_count": null,
      "outputs": []
    },
    {
      "cell_type": "code",
      "source": [
        "# Decision Tree Regressor\n",
        "DTR = DecisionTreeRegressor().fit(X_train, y_train)\n",
        "print('\\nDECISION TREE REGRESSOR:')\n",
        "print('The train score for the Decision Tree Regressor is:', DTR.score(X_train, y_train))\n",
        "print('The test score for the Decision Tree Regressor is:', DTR.score(X_test, y_test))\n",
        "print('\\n')\n",
        "\n",
        "\n",
        "# KNeighborRegressor\n",
        "Neigh = KNeighborsRegressor().fit(X_train, y_train)\n",
        "print('KNN REGRESSOR:')\n",
        "print('The train score for the KNeighborRegressor is:', Neigh.score(X_train, y_train))\n",
        "print('The test score for the KNeighborRegressor is:', Neigh.score(X_test, y_test))\n",
        "print('\\n')\n",
        "\n",
        "# Linear Regression\n",
        "LR = LinearRegression().fit(X_train, y_train)\n",
        "print('LINEAR REGRESSION:')\n",
        "print('The train score for the Linear Regression is:', LR.score(X_train, y_train))\n",
        "print('The test score for the Linear Regression is:', LR.score(X_test, y_test))\n",
        "print('\\n')"
      ],
      "metadata": {
        "colab": {
          "base_uri": "https://localhost:8080/"
        },
        "id": "GiEAo07MkKh_",
        "outputId": "403f8bfe-98ab-435f-bdf4-0ad6f46ec51d"
      },
      "execution_count": null,
      "outputs": [
        {
          "output_type": "stream",
          "name": "stdout",
          "text": [
            "\n",
            "DECISION TREE REGRESSOR:\n",
            "The train score for the Decision Tree Regressor is: 0.5412701956605492\n",
            "The test score for the Decision Tree Regressor is: 0.46821056298312524\n",
            "\n",
            "\n",
            "KNN REGRESSOR:\n",
            "The train score for the KNeighborRegressor is: 0.43471543289020353\n",
            "The test score for the KNeighborRegressor is: 0.3986857704943926\n",
            "\n",
            "\n",
            "LINEAR REGRESSION:\n",
            "The train score for the Linear Regression is: 0.2442542721575568\n",
            "The test score for the Linear Regression is: 0.21939760330383684\n",
            "\n",
            "\n"
          ]
        }
      ]
    },
    {
      "cell_type": "code",
      "source": [
        "# Decision Tree Regressor\n",
        "DTR = DecisionTreeRegressor().fit(X_train_std, y_train)\n",
        "print('\\nDECISION TREE REGRESSOR:')\n",
        "print('The train score for the Decision Tree Regressor is:', DTR.score(X_train_std, y_train))\n",
        "print('The test score for the Decision Tree Regressor is:', DTR.score(X_test_std, y_test))\n",
        "print('\\n')\n",
        "\n",
        "\n",
        "# KNeighborRegressor\n",
        "Neigh = KNeighborsRegressor().fit(X_train_std, y_train)\n",
        "print('KNN REGRESSOR:')\n",
        "print('The train score for the KNeighborRegressor is:', Neigh.score(X_train_std, y_train))\n",
        "print('The test score for the KNeighborRegressor is:', Neigh.score(X_test_std, y_test))\n",
        "print('\\n')\n",
        "\n",
        "# Linear Regression\n",
        "LR = LinearRegression().fit(X_train_std, y_train)\n",
        "print('LINEAR REGRESSION:')\n",
        "print('The train score for the Linear Regression is:', LR.score(X_train_std, y_train))\n",
        "print('The test score for the Linear Regression is:', LR.score(X_test_std, y_test))\n",
        "print('\\n')"
      ],
      "metadata": {
        "id": "bZeQGHN6Euhg",
        "colab": {
          "base_uri": "https://localhost:8080/"
        },
        "outputId": "b5d0e114-743c-424a-e796-cf57849390d6"
      },
      "execution_count": null,
      "outputs": [
        {
          "output_type": "stream",
          "name": "stdout",
          "text": [
            "\n",
            "DECISION TREE REGRESSOR:\n",
            "The train score for the Decision Tree Regressor is: 0.5412701956605492\n",
            "The test score for the Decision Tree Regressor is: 0.47360092297911827\n",
            "\n",
            "\n",
            "KNN REGRESSOR:\n",
            "The train score for the KNeighborRegressor is: 0.4212385105624298\n",
            "The test score for the KNeighborRegressor is: 0.39975682562931103\n",
            "\n",
            "\n",
            "LINEAR REGRESSION:\n",
            "The train score for the Linear Regression is: 0.2442542721575568\n",
            "The test score for the Linear Regression is: 0.21939760330383673\n",
            "\n",
            "\n"
          ]
        }
      ]
    },
    {
      "cell_type": "code",
      "source": [
        "# SupportVectorRegressor\n",
        "# SVR = SVR(max_iter=5).fit(X_train, y_train)\n",
        "# print('SUPPORT VECTOR REGRESSOR:')\n",
        "# print('The train score for the Support Vector Regressor is:', SVR.score(X_train, y_train))\n",
        "# print('The test score for the Support Vector Regressor is:', SVR.score(X_test, y_test))"
      ],
      "metadata": {
        "id": "yHpytDZTFwUZ"
      },
      "execution_count": null,
      "outputs": []
    },
    {
      "cell_type": "code",
      "source": [
        "# SupportVectorRegressor\n",
        "SVR2 = SVR(max_iter=4000).fit(X_train_std, y_train)\n",
        "print('SUPPORT VECTOR REGRESSOR:')\n",
        "print('The train score for the Support Vector Regressor is:', SVR2.score(X_train_std, y_train))\n",
        "print('The test score for the Support Vector Regressor is:', SVR2.score(X_test_std, y_test))"
      ],
      "metadata": {
        "colab": {
          "base_uri": "https://localhost:8080/"
        },
        "id": "NdjYQRkMkp0H",
        "outputId": "fd810575-5f7e-4e47-fc2d-f2bd2ac7c49f"
      },
      "execution_count": null,
      "outputs": [
        {
          "output_type": "stream",
          "name": "stderr",
          "text": [
            "/usr/local/lib/python3.8/dist-packages/sklearn/svm/_base.py:284: ConvergenceWarning: Solver terminated early (max_iter=4000).  Consider pre-processing your data with StandardScaler or MinMaxScaler.\n",
            "  warnings.warn(\n"
          ]
        },
        {
          "output_type": "stream",
          "name": "stdout",
          "text": [
            "SUPPORT VECTOR REGRESSOR:\n",
            "The train score for the Support Vector Regressor is: -0.18176825566628607\n",
            "The test score for the Support Vector Regressor is: -0.1481899038858725\n"
          ]
        }
      ]
    },
    {
      "cell_type": "code",
      "source": [],
      "metadata": {
        "id": "nmZIz7SFi43v"
      },
      "execution_count": null,
      "outputs": []
    },
    {
      "cell_type": "markdown",
      "source": [
        "### Randomized/Grid Search"
      ],
      "metadata": {
        "id": "zQhDYxz0o3pc"
      }
    },
    {
      "cell_type": "code",
      "source": [
        "dico_dtr = {'max_depth': range(1,50), 'min_samples_split': range(2,20), 'min_samples_leaf': range(1,50), 'random_state': range(1,50)}\n",
        "# grid_dtr = RandomizedSearchCV(DecisionTreeRegressor(), dico_dtr, n_iter=200).fit(X_train,y_train)\n",
        "grid_dtr = RandomizedSearchCV(DecisionTreeRegressor(), dico_dtr, n_iter=200).fit(X_train,y_train)\n",
        "\n",
        "print(\"best score:\",grid_dtr.best_score_)\n",
        "print(\"best parameters:\",grid_dtr.best_params_)"
      ],
      "metadata": {
        "id": "-syBfSskEv3C",
        "colab": {
          "base_uri": "https://localhost:8080/"
        },
        "outputId": "fbc24748-de9e-4b58-9bc5-f4a141ff5f09"
      },
      "execution_count": null,
      "outputs": [
        {
          "output_type": "stream",
          "name": "stdout",
          "text": [
            "best score: 0.4549498883137253\n",
            "best parameters: {'random_state': 39, 'min_samples_split': 11, 'min_samples_leaf': 9, 'max_depth': 32}\n"
          ]
        }
      ]
    },
    {
      "cell_type": "code",
      "source": [
        "dico_dtr = {'max_depth': range(1,50), 'min_samples_split': range(2,20), 'min_samples_leaf': range(1,50), 'random_state': range(1,50)}\n",
        "# grid_dtr = RandomizedSearchCV(DecisionTreeRegressor(), dico_dtr, n_iter=200).fit(X_train,y_train)\n",
        "grid_dtr = RandomizedSearchCV(DecisionTreeRegressor(), dico_dtr, n_iter=200).fit(X_train_std,y_train)\n",
        "\n",
        "print(\"best score:\",grid_dtr.best_score_)\n",
        "print(\"best parameters:\",grid_dtr.best_params_)"
      ],
      "metadata": {
        "colab": {
          "base_uri": "https://localhost:8080/"
        },
        "id": "iYA_DJXaqF-L",
        "outputId": "fbd22874-509f-4e63-bb32-f672dfe9b1b4"
      },
      "execution_count": null,
      "outputs": [
        {
          "output_type": "stream",
          "name": "stdout",
          "text": [
            "best score: 0.4551326287198423\n",
            "best parameters: {'random_state': 30, 'min_samples_split': 10, 'min_samples_leaf': 10, 'max_depth': 29}\n"
          ]
        }
      ]
    },
    {
      "cell_type": "code",
      "source": [
        "dico_knr = {'n_neighbors': range(1,30), 'leaf_size': range(1,50)}\n",
        "grid_knr = RandomizedSearchCV(KNeighborsRegressor(), dico_knr, n_iter=200).fit(X_train,y_train)\n",
        "\n",
        "print(\"best score:\",grid_knr.best_score_)\n",
        "print(\"best parameters:\",grid_knr.best_params_)"
      ],
      "metadata": {
        "colab": {
          "base_uri": "https://localhost:8080/"
        },
        "id": "CaanGXJBo8An",
        "outputId": "ab8e044e-9573-4e5c-c89b-cd94fe72c4f9"
      },
      "execution_count": null,
      "outputs": [
        {
          "output_type": "stream",
          "name": "stdout",
          "text": [
            "best score: 0.45612819504561414\n",
            "best parameters: {'n_neighbors': 29, 'leaf_size': 4}\n"
          ]
        }
      ]
    },
    {
      "cell_type": "code",
      "source": [
        "dico_knr = {'n_neighbors': range(1,30), 'leaf_size': range(1,50)}\n",
        "grid_knr = RandomizedSearchCV(KNeighborsRegressor(), dico_knr, n_iter=200).fit(X_train_std,y_train)\n",
        "\n",
        "print(\"best score:\",grid_knr.best_score_)\n",
        "print(\"best parameters:\",grid_knr.best_params_)"
      ],
      "metadata": {
        "colab": {
          "base_uri": "https://localhost:8080/"
        },
        "id": "h3PwrhsnqG5j",
        "outputId": "90ac6087-94a5-455e-9f7e-f5240bcc68a0"
      },
      "execution_count": null,
      "outputs": [
        {
          "output_type": "stream",
          "name": "stdout",
          "text": [
            "best score: 0.4494355816236693\n",
            "best parameters: {'n_neighbors': 29, 'leaf_size': 43}\n"
          ]
        }
      ]
    },
    {
      "cell_type": "code",
      "source": [
        "dico_lr = {'n_jobs': [-1]}\n",
        "grid_lr = GridSearchCV(LinearRegression(), dico_lr).fit(X_train,y_train)\n",
        "\n",
        "print(\"best score:\",grid_lr.best_score_)\n",
        "print(\"best parameters:\",grid_lr.best_params_)"
      ],
      "metadata": {
        "colab": {
          "base_uri": "https://localhost:8080/"
        },
        "id": "6-FHNksWo9kd",
        "outputId": "e5202bef-0dfe-4121-9b44-b218fee80386"
      },
      "execution_count": null,
      "outputs": [
        {
          "output_type": "stream",
          "name": "stdout",
          "text": [
            "best score: 0.24466434695283396\n",
            "best parameters: {'n_jobs': -1}\n"
          ]
        }
      ]
    },
    {
      "cell_type": "code",
      "source": [
        "dico_lr = {'n_jobs': [-1]}\n",
        "grid_lr = GridSearchCV(LinearRegression(), dico_lr).fit(X_train_std,y_train)\n",
        "\n",
        "print(\"best score:\",grid_lr.best_score_)\n",
        "print(\"best parameters:\",grid_lr.best_params_)"
      ],
      "metadata": {
        "colab": {
          "base_uri": "https://localhost:8080/"
        },
        "id": "UXp2W2CYqHLb",
        "outputId": "914fba82-6b66-4121-82c2-b709ef94b3b9"
      },
      "execution_count": null,
      "outputs": [
        {
          "output_type": "stream",
          "name": "stdout",
          "text": [
            "best score: 0.24466434695283387\n",
            "best parameters: {'n_jobs': -1}\n"
          ]
        }
      ]
    },
    {
      "cell_type": "markdown",
      "source": [
        "### Mean Squared Error"
      ],
      "metadata": {
        "id": "6DREkleBzyLd"
      }
    },
    {
      "cell_type": "code",
      "source": [
        "# Decision Tree Regressor\n",
        "DTR = DecisionTreeRegressor().fit(X_train, y_train)\n",
        "y_pred = DTR.predict(X_test)\n",
        "print('\\nDECISION TREE REGRESSOR:')\n",
        "print('The mean squared error for the Decision Tree Regressor is:', mean_squared_error(y_test, y_pred))\n",
        "print('\\n')\n",
        "\n",
        "\n",
        "# KNeighborRegressor\n",
        "Neigh = KNeighborsRegressor().fit(X_train, y_train)\n",
        "y_pred = Neigh.predict(X_test)\n",
        "print('KNN REGRESSOR:')\n",
        "print('The mean squared error for the KNeighborRegressor is:', mean_squared_error(y_test, y_pred))\n",
        "print('\\n')\n",
        "\n",
        "# Linear Regression\n",
        "LR = LinearRegression().fit(X_train, y_train)\n",
        "y_pred = LR.predict(X_test)\n",
        "print('LINEAR REGRESSION:')\n",
        "print('The mean squared error for the Linear Regression is:', mean_squared_error(y_test, y_pred))\n",
        "print('\\n')"
      ],
      "metadata": {
        "colab": {
          "base_uri": "https://localhost:8080/"
        },
        "id": "DVRzNjrj0me1",
        "outputId": "009ff21b-63b9-4b2a-f8da-3feb8fdc8e40"
      },
      "execution_count": null,
      "outputs": [
        {
          "output_type": "stream",
          "name": "stdout",
          "text": [
            "\n",
            "DECISION TREE REGRESSOR:\n",
            "The mean squared error for the Decision Tree Regressor is: 594.8085991645693\n",
            "\n",
            "\n",
            "KNN REGRESSOR:\n",
            "The mean squared error for the KNeighborRegressor is: 678.7070868731159\n",
            "\n",
            "\n",
            "LINEAR REGRESSION:\n",
            "The mean squared error for the Linear Regression is: 881.0707491545978\n",
            "\n",
            "\n"
          ]
        }
      ]
    },
    {
      "cell_type": "code",
      "source": [
        "# Decision Tree Regressor\n",
        "DTR = DecisionTreeRegressor().fit(X_train_std, y_train)\n",
        "y_pred = DTR.predict(X_test_std)\n",
        "print('\\nDECISION TREE REGRESSOR:')\n",
        "print('The mean squared error for the Decision Tree Regressor is:', mean_squared_error(y_test, y_pred))\n",
        "print('\\n')\n",
        "\n",
        "\n",
        "# KNeighborRegressor\n",
        "Neigh = KNeighborsRegressor().fit(X_train_std, y_train)\n",
        "y_pred = Neigh.predict(X_test_std)\n",
        "print('KNN REGRESSOR:')\n",
        "print('The mean squared error for the KNeighborRegressor is:', mean_squared_error(y_test, y_pred))\n",
        "print('\\n')\n",
        "\n",
        "# Linear Regression\n",
        "LR = LinearRegression().fit(X_train_std, y_train)\n",
        "y_pred = LR.predict(X_test_std)\n",
        "print('LINEAR REGRESSION:')\n",
        "print('The mean squared error for the Linear Regression is:', mean_squared_error(y_test, y_pred))\n",
        "print('\\n')"
      ],
      "metadata": {
        "colab": {
          "base_uri": "https://localhost:8080/"
        },
        "id": "ZYLAPv1T1ebo",
        "outputId": "11670f58-0462-47c2-f818-97a68a398d5e"
      },
      "execution_count": null,
      "outputs": [
        {
          "output_type": "stream",
          "name": "stdout",
          "text": [
            "\n",
            "DECISION TREE REGRESSOR:\n",
            "The mean squared error for the Decision Tree Regressor is: 600.1439992741884\n",
            "\n",
            "\n",
            "KNN REGRESSOR:\n",
            "The mean squared error for the KNeighborRegressor is: 677.4981803233762\n",
            "\n",
            "\n",
            "LINEAR REGRESSION:\n",
            "The mean squared error for the Linear Regression is: 881.0707491545979\n",
            "\n",
            "\n"
          ]
        }
      ]
    },
    {
      "cell_type": "code",
      "source": [
        "# SupportVectorRegressor\n",
        "# SVR = SVR(max_iter=4000).fit(X_train, y_train)\n",
        "# y_pred = SVR.predict(X_test)\n",
        "# print('SUPPORT VECTOR REGRESSOR:')\n",
        "# print('The mean squared error for the SupportVectorRegressor is:', mean_squared_error(y_test, y_pred))"
      ],
      "metadata": {
        "colab": {
          "base_uri": "https://localhost:8080/"
        },
        "id": "yBafoFfo1tCD",
        "outputId": "7b79c53a-4ad6-49e5-b669-d9b558afec40"
      },
      "execution_count": null,
      "outputs": [
        {
          "output_type": "stream",
          "name": "stderr",
          "text": [
            "/usr/local/lib/python3.8/dist-packages/sklearn/svm/_base.py:284: ConvergenceWarning: Solver terminated early (max_iter=4000).  Consider pre-processing your data with StandardScaler or MinMaxScaler.\n",
            "  warnings.warn(\n"
          ]
        },
        {
          "output_type": "stream",
          "name": "stdout",
          "text": [
            "SUPPORT VECTOR REGRESSOR:\n",
            "The mean squared error for the SupportVectorRegressor is: 1166.4904701668665\n"
          ]
        }
      ]
    },
    {
      "cell_type": "code",
      "source": [
        "SVR2 = SVR(max_iter=4000).fit(X_train_std, y_train)\n",
        "y_pred = SVR2.predict(X_test_std)\n",
        "print('SUPPORT VECTOR REGRESSOR:')\n",
        "print('The mean squared error for the SupportVectorRegressor is:', mean_squared_error(y_test, y_pred))"
      ],
      "metadata": {
        "colab": {
          "base_uri": "https://localhost:8080/"
        },
        "id": "SMtgOhrL1qKz",
        "outputId": "1e970e7b-2387-4bea-8f25-1ff88c366750"
      },
      "execution_count": null,
      "outputs": [
        {
          "output_type": "stream",
          "name": "stderr",
          "text": [
            "/usr/local/lib/python3.8/dist-packages/sklearn/svm/_base.py:284: ConvergenceWarning: Solver terminated early (max_iter=4000).  Consider pre-processing your data with StandardScaler or MinMaxScaler.\n",
            "  warnings.warn(\n"
          ]
        },
        {
          "output_type": "stream",
          "name": "stdout",
          "text": [
            "SUPPORT VECTOR REGRESSOR:\n",
            "The mean squared error for the SupportVectorRegressor is: 1295.9690401542982\n"
          ]
        }
      ]
    },
    {
      "cell_type": "code",
      "source": [
        "# Decision Tree Regressor\n",
        "DTR = DecisionTreeRegressor().fit(X_train, y_train)\n",
        "y_pred_test = DTR.predict(X_test)\n",
        "y_pred_train = DTR.predict(X_train)\n",
        "print('\\nDECISION TREE REGRESSOR without Standardization:')\n",
        "print('\\nTrain:')\n",
        "print('The mean squared error for the Decision Tree Regressor is:', mean_squared_error(y_train, y_pred_train))\n",
        "print('\\nTest:')\n",
        "print('The mean squared error for the Decision Tree Regressor is:', mean_squared_error(y_test, y_pred_test))\n",
        "print('\\n')\n",
        "\n",
        "# Decision Tree Regressor\n",
        "DTR = DecisionTreeRegressor().fit(X_train_std, y_train)\n",
        "y_pred_test = DTR.predict(X_test_std)\n",
        "y_pred_train = DTR.predict(X_train_std)\n",
        "print('\\nDECISION TREE REGRESSOR with Standardization:')\n",
        "print('\\nTrain:')\n",
        "print('The mean squared error for the Decision Tree Regressor is:', mean_squared_error(y_train, y_pred_train))\n",
        "print('\\nTest:')\n",
        "print('The mean squared error for the Decision Tree Regressor is:', mean_squared_error(y_test, y_pred_test))\n",
        "print('\\n')"
      ],
      "metadata": {
        "colab": {
          "base_uri": "https://localhost:8080/"
        },
        "id": "QISqL3Q57v2a",
        "outputId": "5674e8a7-7009-46bc-d881-1f854ca65d23"
      },
      "execution_count": null,
      "outputs": [
        {
          "output_type": "stream",
          "name": "stdout",
          "text": [
            "\n",
            "DECISION TREE REGRESSOR without Standardization:\n",
            "\n",
            "Train:\n",
            "The mean squared error for the Decision Tree Regressor is: 441.7940374817968\n",
            "\n",
            "Test:\n",
            "The mean squared error for the Decision Tree Regressor is: 594.8468288165287\n",
            "\n",
            "\n",
            "\n",
            "DECISION TREE REGRESSOR with Standardization:\n",
            "\n",
            "Train:\n",
            "The mean squared error for the Decision Tree Regressor is: 441.7940374817968\n",
            "\n",
            "Test:\n",
            "The mean squared error for the Decision Tree Regressor is: 594.7185745002778\n",
            "\n",
            "\n"
          ]
        }
      ]
    },
    {
      "cell_type": "code",
      "source": [
        "dico_dtr = {'max_depth': range(1,50), 'min_samples_split': range(2,20), 'min_samples_leaf': range(1,20), 'random_state': range(1,50)}\n",
        "# grid_dtr = RandomizedSearchCV(DecisionTreeRegressor(), dico_dtr, n_iter=200).fit(X_train,y_train)\n",
        "grid_dtr = RandomizedSearchCV(DecisionTreeRegressor(), dico_dtr, n_iter=200).fit(X_train,y_train)\n",
        "\n",
        "print(\"best score:\",grid_dtr.best_score_)\n",
        "print(\"best parameters:\",grid_dtr.best_params_)\n",
        "\n",
        "y_pred_test = grid_dtr.predict(X_test)\n",
        "y_pred_train = grid_dtr.predict(X_train)\n",
        "print('\\nDECISION TREE REGRESSOR without Standardization:')\n",
        "print('\\nTrain:')\n",
        "print('The mean squared error for the Decision Tree Regressor is:', mean_squared_error(y_train, y_pred_train))\n",
        "print('\\nTest:')\n",
        "print('The mean squared error for the Decision Tree Regressor is:', mean_squared_error(y_test, y_pred_test))\n",
        "print('\\n')"
      ],
      "metadata": {
        "colab": {
          "base_uri": "https://localhost:8080/"
        },
        "id": "dEKCx_5j9_0R",
        "outputId": "e0e00890-342f-4e8c-c6fb-01b3a897682a"
      },
      "execution_count": null,
      "outputs": [
        {
          "output_type": "stream",
          "name": "stdout",
          "text": [
            "best score: 0.4551326287198423\n",
            "best parameters: {'random_state': 47, 'min_samples_split': 6, 'min_samples_leaf': 10, 'max_depth': 48}\n",
            "\n",
            "DECISION TREE REGRESSOR without Standardization:\n",
            "\n",
            "Train:\n",
            "The mean squared error for the Decision Tree Regressor is: 486.16313854389915\n",
            "\n",
            "Test:\n",
            "The mean squared error for the Decision Tree Regressor is: 595.3264999329363\n",
            "\n",
            "\n"
          ]
        }
      ]
    },
    {
      "cell_type": "code",
      "source": [
        "# dico_dtr = {'max_depth': range(1,50), 'min_samples_split': range(2,20), 'min_samples_leaf': range(1,50), 'random_state': range(1,50)}\n",
        "dico_dtr = {'max_depth': range(1,50), 'min_samples_split': range(2,20), 'min_samples_leaf': range(1,20), 'random_state': range(1,50)}\n",
        "# grid_dtr = RandomizedSearchCV(DecisionTreeRegressor(), dico_dtr, n_iter=200).fit(X_train,y_train)\n",
        "grid_dtr = RandomizedSearchCV(DecisionTreeRegressor(), dico_dtr, n_iter=200).fit(X_train_std,y_train)\n",
        "\n",
        "print(\"best score:\",grid_dtr.best_score_)\n",
        "print(\"best parameters:\",grid_dtr.best_params_)\n",
        "\n",
        "y_pred_test = grid_dtr.predict(X_test_std)\n",
        "y_pred_train = grid_dtr.predict(X_train_std)\n",
        "print('\\nDECISION TREE REGRESSOR without Standardization:')\n",
        "print('\\nTrain:')\n",
        "print('The mean squared error for the Decision Tree Regressor is:', mean_squared_error(y_train, y_pred_train))\n",
        "print('\\nTest:')\n",
        "print('The mean squared error for the Decision Tree Regressor is:', mean_squared_error(y_test, y_pred_test))\n",
        "print('\\n')"
      ],
      "metadata": {
        "colab": {
          "base_uri": "https://localhost:8080/"
        },
        "id": "dZ4FmRElAu6H",
        "outputId": "49b03e1a-348c-4a2e-9d10-b85a15c4f0a6"
      },
      "execution_count": null,
      "outputs": [
        {
          "output_type": "stream",
          "name": "stdout",
          "text": [
            "best score: 0.4551326287198423\n",
            "best parameters: {'random_state': 3, 'min_samples_split': 7, 'min_samples_leaf': 10, 'max_depth': 41}\n",
            "\n",
            "DECISION TREE REGRESSOR without Standardization:\n",
            "\n",
            "Train:\n",
            "The mean squared error for the Decision Tree Regressor is: 486.16313854389915\n",
            "\n",
            "Test:\n",
            "The mean squared error for the Decision Tree Regressor is: 595.3264999329363\n",
            "\n",
            "\n"
          ]
        }
      ]
    },
    {
      "cell_type": "code",
      "source": [
        "# random_state= 39, min_samples_split = 7, min_samples_leaf= 46, max_depth = 12"
      ],
      "metadata": {
        "id": "QDGLbRFt08qQ"
      },
      "execution_count": null,
      "outputs": []
    },
    {
      "cell_type": "markdown",
      "source": [
        "### With Grid Search"
      ],
      "metadata": {
        "id": "pnb70d1sEcW9"
      }
    },
    {
      "cell_type": "code",
      "source": [
        "SCORERS.keys()"
      ],
      "metadata": {
        "colab": {
          "base_uri": "https://localhost:8080/"
        },
        "id": "Qa3gTDaqe73w",
        "outputId": "e584586e-4a17-4917-8777-407c4a152806"
      },
      "execution_count": null,
      "outputs": [
        {
          "output_type": "execute_result",
          "data": {
            "text/plain": [
              "dict_keys(['explained_variance', 'r2', 'max_error', 'neg_median_absolute_error', 'neg_mean_absolute_error', 'neg_mean_absolute_percentage_error', 'neg_mean_squared_error', 'neg_mean_squared_log_error', 'neg_root_mean_squared_error', 'neg_mean_poisson_deviance', 'neg_mean_gamma_deviance', 'accuracy', 'top_k_accuracy', 'roc_auc', 'roc_auc_ovr', 'roc_auc_ovo', 'roc_auc_ovr_weighted', 'roc_auc_ovo_weighted', 'balanced_accuracy', 'average_precision', 'neg_log_loss', 'neg_brier_score', 'adjusted_rand_score', 'rand_score', 'homogeneity_score', 'completeness_score', 'v_measure_score', 'mutual_info_score', 'adjusted_mutual_info_score', 'normalized_mutual_info_score', 'fowlkes_mallows_score', 'precision', 'precision_macro', 'precision_micro', 'precision_samples', 'precision_weighted', 'recall', 'recall_macro', 'recall_micro', 'recall_samples', 'recall_weighted', 'f1', 'f1_macro', 'f1_micro', 'f1_samples', 'f1_weighted', 'jaccard', 'jaccard_macro', 'jaccard_micro', 'jaccard_samples', 'jaccard_weighted'])"
            ]
          },
          "metadata": {},
          "execution_count": 26
        }
      ]
    },
    {
      "cell_type": "code",
      "source": [
        "dico_dtr = {'max_depth': range(40,50), 'min_samples_split': range(5,15), 'min_samples_leaf': range(5,15), 'random_state': [19]}\n",
        "# grid_dtr = RandomizedSearchCV(DecisionTreeRegressor(), dico_dtr, n_iter=200).fit(X_train,y_train)\n",
        "grid_dtr = GridSearchCV(DecisionTreeRegressor(), dico_dtr).fit(X_train,y_train)\n",
        "\n",
        "print(\"best score:\",grid_dtr.best_score_)\n",
        "print(\"best parameters:\",grid_dtr.best_params_)\n",
        "\n",
        "y_pred_test = grid_dtr.predict(X_test)\n",
        "y_pred_train = grid_dtr.predict(X_train)\n",
        "print('\\nDECISION TREE REGRESSOR without Standardization:')\n",
        "print('\\nTrain:')\n",
        "print('The mean squared error for the Decision Tree Regressor is:', mean_squared_error(y_train, y_pred_train))\n",
        "print('\\nTest:')\n",
        "print('The mean squared error for the Decision Tree Regressor is:', mean_squared_error(y_test, y_pred_test))\n",
        "print('\\n')"
      ],
      "metadata": {
        "colab": {
          "base_uri": "https://localhost:8080/"
        },
        "id": "vdiKEz1-aWmC",
        "outputId": "e2a898f8-8840-48c6-c7e5-dc8c739ac682"
      },
      "execution_count": null,
      "outputs": [
        {
          "output_type": "stream",
          "name": "stdout",
          "text": [
            "best score: 0.4551326287198423\n",
            "best parameters: {'max_depth': 40, 'min_samples_leaf': 10, 'min_samples_split': 5, 'random_state': 19}\n",
            "\n",
            "DECISION TREE REGRESSOR without Standardization:\n",
            "\n",
            "Train:\n",
            "The mean squared error for the Decision Tree Regressor is: 486.16313854389915\n",
            "\n",
            "Test:\n",
            "The mean squared error for the Decision Tree Regressor is: 595.3264999329363\n",
            "\n",
            "\n"
          ]
        }
      ]
    },
    {
      "cell_type": "code",
      "source": [
        "# dico_dtr = {'max_depth': range(1,50), 'min_samples_split': range(2,20), 'min_samples_leaf': range(1,50), 'random_state': range(1,50)}\n",
        "dico_dtr = {'max_depth': range(40,50), 'min_samples_split': range(5,15), 'min_samples_leaf': range(5,15), 'random_state': [19]}\n",
        "# grid_dtr = RandomizedSearchCV(DecisionTreeRegressor(), dico_dtr, n_iter=200).fit(X_train,y_train)\n",
        "grid_dtr = GridSearchCV(DecisionTreeRegressor(), dico_dtr).fit(X_train_std,y_train)\n",
        "\n",
        "print(\"best score:\",grid_dtr.best_score_)\n",
        "print(\"best parameters:\",grid_dtr.best_params_)\n",
        "\n",
        "y_pred_test = grid_dtr.predict(X_test_std)\n",
        "y_pred_train = grid_dtr.predict(X_train_std)\n",
        "print('\\nDECISION TREE REGRESSOR without Standardization:')\n",
        "print('\\nTrain:')\n",
        "print('The mean squared error for the Decision Tree Regressor is:', mean_squared_error(y_train, y_pred_train))\n",
        "print('\\nTest:')\n",
        "print('The mean squared error for the Decision Tree Regressor is:', mean_squared_error(y_test, y_pred_test))\n",
        "print('\\n')"
      ],
      "metadata": {
        "colab": {
          "base_uri": "https://localhost:8080/"
        },
        "id": "r0m4FdTlvW1E",
        "outputId": "e49d667d-5fcc-4520-a6d2-016b2a39631d"
      },
      "execution_count": null,
      "outputs": [
        {
          "output_type": "stream",
          "name": "stdout",
          "text": [
            "best score: 0.4551326287198423\n",
            "best parameters: {'max_depth': 40, 'min_samples_leaf': 10, 'min_samples_split': 5, 'random_state': 19}\n",
            "\n",
            "DECISION TREE REGRESSOR without Standardization:\n",
            "\n",
            "Train:\n",
            "The mean squared error for the Decision Tree Regressor is: 486.16313854389915\n",
            "\n",
            "Test:\n",
            "The mean squared error for the Decision Tree Regressor is: 595.3264999329363\n",
            "\n",
            "\n"
          ]
        }
      ]
    },
    {
      "cell_type": "code",
      "source": [
        "price_calculated_main = DecisionTreeRegressor(max_depth = 40, min_samples_leaf = 10, min_samples_split = 5, random_state = 19)\n",
        "price_calculated_main.fit(X_train, y_train)\n",
        "df['price_calculated'] = price_calculated_main.predict(df[['year', 'points']])\n",
        "df['price_calculated'] "
      ],
      "metadata": {
        "id": "kuLKcYddxDAp",
        "colab": {
          "base_uri": "https://localhost:8080/"
        },
        "outputId": "e67b0693-e7fb-4ba9-9261-46e331ba7878"
      },
      "execution_count": null,
      "outputs": [
        {
          "output_type": "stream",
          "name": "stderr",
          "text": [
            "/usr/local/lib/python3.8/dist-packages/sklearn/base.py:493: FutureWarning: The feature names should match those that were passed during fit. Starting version 1.2, an error will be raised.\n",
            "Feature names must be in the same order as they were in fit.\n",
            "\n",
            "  warnings.warn(message, FutureWarning)\n"
          ]
        },
        {
          "output_type": "execute_result",
          "data": {
            "text/plain": [
              "1         395.785714\n",
              "2         395.785714\n",
              "3         395.785714\n",
              "4         395.785714\n",
              "5         395.785714\n",
              "             ...    \n",
              "129952    395.785714\n",
              "129953    395.785714\n",
              "129954    395.785714\n",
              "129955    395.785714\n",
              "129956    395.785714\n",
              "Name: price_calculated, Length: 116768, dtype: float64"
            ]
          },
          "metadata": {},
          "execution_count": 43
        }
      ]
    },
    {
      "cell_type": "markdown",
      "source": [
        "### Domaine des Croix"
      ],
      "metadata": {
        "id": "ZtSBgUJmCzk_"
      }
    },
    {
      "cell_type": "code",
      "source": [
        "domaine_des_croix_df = pd.read_csv('https://raw.githubusercontent.com/murpi/wilddata/master/domaine_des_croix.csv')\n",
        "domaine_des_croix_df.info()"
      ],
      "metadata": {
        "colab": {
          "base_uri": "https://localhost:8080/"
        },
        "id": "J-9EZF85xq0M",
        "outputId": "314f519f-3aa1-4e74-b8cd-d140c94c37c5"
      },
      "execution_count": null,
      "outputs": [
        {
          "output_type": "stream",
          "name": "stdout",
          "text": [
            "<class 'pandas.core.frame.DataFrame'>\n",
            "RangeIndex: 14 entries, 0 to 13\n",
            "Data columns (total 13 columns):\n",
            " #   Column                 Non-Null Count  Dtype  \n",
            "---  ------                 --------------  -----  \n",
            " 0   country                14 non-null     object \n",
            " 1   description            14 non-null     object \n",
            " 2   designation            9 non-null      object \n",
            " 3   points                 14 non-null     int64  \n",
            " 4   price                  0 non-null      float64\n",
            " 5   province               14 non-null     object \n",
            " 6   region_1               14 non-null     object \n",
            " 7   region_2               0 non-null      float64\n",
            " 8   taster_name            14 non-null     object \n",
            " 9   taster_twitter_handle  14 non-null     object \n",
            " 10  title                  14 non-null     object \n",
            " 11  variety                14 non-null     object \n",
            " 12  winery                 14 non-null     object \n",
            "dtypes: float64(2), int64(1), object(10)\n",
            "memory usage: 1.5+ KB\n"
          ]
        }
      ]
    },
    {
      "cell_type": "code",
      "source": [
        "def get_year_from_title(title):\n",
        "  list_years = re.findall(r'\\b\\d{4}\\b', title)\n",
        "  if len(list_years) > 1:\n",
        "    list_years = max(list_years)\n",
        "  return ''.join(list_years)\n",
        "  \n",
        "domaine_des_croix_df['year'] = domaine_des_croix_df['title'].apply(get_year_from_title)\n",
        "domaine_des_croix_df['year']"
      ],
      "metadata": {
        "colab": {
          "base_uri": "https://localhost:8080/"
        },
        "id": "hIRRHaorDaZ4",
        "outputId": "f28589af-dcff-4558-be26-9d7f95151941"
      },
      "execution_count": null,
      "outputs": [
        {
          "output_type": "execute_result",
          "data": {
            "text/plain": [
              "0     2016\n",
              "1     2017\n",
              "2     2016\n",
              "3     2019\n",
              "4     2017\n",
              "5     2015\n",
              "6     2018\n",
              "7     2016\n",
              "8     2018\n",
              "9     2019\n",
              "10    2018\n",
              "11    2014\n",
              "12    2014\n",
              "13    2018\n",
              "Name: year, dtype: object"
            ]
          },
          "metadata": {},
          "execution_count": 12
        }
      ]
    },
    {
      "cell_type": "code",
      "source": [
        "# domaine_des_croix_df"
      ],
      "metadata": {
        "id": "dQEu2iqxDqgQ"
      },
      "execution_count": null,
      "outputs": []
    },
    {
      "cell_type": "code",
      "source": [
        "X_d = domaine_des_croix_df[['points', 'year']]\n",
        "y_d = domaine_des_croix_df['price']\n",
        "X_train_d, X_test_d, y_train_d, y_test_d = train_test_split(X_d, y_d, train_size = 0.75, random_state=19)\n",
        "\n",
        "# sc = StandardScaler()\n",
        "# sc.fit(X_train_d, y_train_d)\n",
        "# X_train_std = sc.transform(X_train_d)\n",
        "# X_test_std = sc.transform(X_test_d)\n",
        "\n",
        "price_calculated = DecisionTreeRegressor(max_depth = 40, min_samples_leaf = 10, min_samples_split = 5, random_state = 19)\n",
        "price_calculated.fit(X_train_d, y_train_d)\n",
        "domaine_des_croix_df['price'] = price_calculated.predict(domaine_des_croix_df[['points', 'year']])\n",
        "domaine_des_croix_df['price'] "
      ],
      "metadata": {
        "colab": {
          "base_uri": "https://localhost:8080/"
        },
        "id": "d5gejlcTvXKL",
        "outputId": "cd46bc9a-994f-4905-9df3-8d2a08d89d1e"
      },
      "execution_count": null,
      "outputs": [
        {
          "output_type": "execute_result",
          "data": {
            "text/plain": [
              "0     395.785714\n",
              "1     395.785714\n",
              "2     395.785714\n",
              "3     395.785714\n",
              "4     395.785714\n",
              "5     395.785714\n",
              "6     395.785714\n",
              "7     395.785714\n",
              "8     395.785714\n",
              "9     395.785714\n",
              "10    395.785714\n",
              "11    395.785714\n",
              "12    395.785714\n",
              "13    395.785714\n",
              "Name: price, dtype: float64"
            ]
          },
          "metadata": {},
          "execution_count": 57
        }
      ]
    },
    {
      "cell_type": "code",
      "source": [
        "# y_true = df_insurance['charges'].tolist() # Observed value\n",
        "# y_pred = df_insurance['charges_calculated'].tolist()\n",
        "\n",
        "# mse = mean_squared_error(y_true, y_pred)\n",
        "\n",
        "# print(mse)"
      ],
      "metadata": {
        "id": "NBOl-I6evcnM"
      },
      "execution_count": null,
      "outputs": []
    },
    {
      "cell_type": "markdown",
      "source": [
        "### 10 Varieties/Countries"
      ],
      "metadata": {
        "id": "_C_A7_vmvfgN"
      }
    },
    {
      "cell_type": "code",
      "source": [
        "df['varieties_top10'] = df['variety'].apply(lambda x: x if (x=='Pinot Noir' or x=='Chardonnay' or x=='Cabernet Sauvignon' or x=='Red Blend' or x=='Bordeaux-style Red Blend' or x=='Riesling' or x=='Sauvignon Blanc' or x=='Syrah' or x=='Rosé' or x=='Merlot') else np.nan)\n",
        "df['varieties_top10']"
      ],
      "metadata": {
        "colab": {
          "base_uri": "https://localhost:8080/"
        },
        "id": "3IuilPpMvmWh",
        "outputId": "50f866c1-e24d-4762-eb48-86f69dd0f741"
      },
      "execution_count": null,
      "outputs": [
        {
          "output_type": "execute_result",
          "data": {
            "text/plain": [
              "1                NaN\n",
              "2                NaN\n",
              "3           Riesling\n",
              "4         Pinot Noir\n",
              "5                NaN\n",
              "             ...    \n",
              "129952      Riesling\n",
              "129953    Pinot Noir\n",
              "129954           NaN\n",
              "129955           NaN\n",
              "129956           NaN\n",
              "Name: varieties_top10, Length: 116768, dtype: object"
            ]
          },
          "metadata": {},
          "execution_count": 28
        }
      ]
    },
    {
      "cell_type": "code",
      "source": [
        "df['countries_top10'] = df['country'].apply(lambda x: x if (x=='US' or x=='France' or x=='Italy' or x=='Spain' or x=='Portugal' or x=='Chile' or x=='Argentina' or x=='Austria' or x=='Australia' or x=='Germany') else np.nan)\n",
        "df['countries_top10']"
      ],
      "metadata": {
        "colab": {
          "base_uri": "https://localhost:8080/"
        },
        "id": "VC_Qj4lj0Z20",
        "outputId": "aed8f43e-17a0-4e79-a2ec-7cfbdb1bdf54"
      },
      "execution_count": null,
      "outputs": [
        {
          "output_type": "execute_result",
          "data": {
            "text/plain": [
              "1         Portugal\n",
              "2               US\n",
              "3               US\n",
              "4               US\n",
              "5            Spain\n",
              "            ...   \n",
              "129952     Germany\n",
              "129953          US\n",
              "129954      France\n",
              "129955      France\n",
              "129956      France\n",
              "Name: countries_top10, Length: 116768, dtype: object"
            ]
          },
          "metadata": {},
          "execution_count": 31
        }
      ]
    },
    {
      "cell_type": "code",
      "source": [
        "df = pd.get_dummies(df, columns=['varieties_top10', 'countries_top10'])"
      ],
      "metadata": {
        "id": "S2PnH9eD1JVZ"
      },
      "execution_count": null,
      "outputs": []
    },
    {
      "cell_type": "code",
      "source": [
        "# 'varieties_top10_Bordeaux-style Red Blend',\n",
        "#        'varieties_top10_Cabernet Sauvignon', 'varieties_top10_Chardonnay',\n",
        "#        'varieties_top10_Merlot', 'varieties_top10_Pinot Noir',\n",
        "#        'varieties_top10_Red Blend', 'varieties_top10_Riesling',\n",
        "#        'varieties_top10_Rosé', 'varieties_top10_Sauvignon Blanc',\n",
        "#        'varieties_top10_Syrah', 'countries_top10_Argentina',\n",
        "#        'countries_top10_Australia', 'countries_top10_Austria',\n",
        "#        'countries_top10_Chile', 'countries_top10_France',\n",
        "#        'countries_top10_Germany', 'countries_top10_Italy',\n",
        "#        'countries_top10_Portugal', 'countries_top10_Spain',\n",
        "#        'countries_top10_US'"
      ],
      "metadata": {
        "id": "k0tg7a6d1g01"
      },
      "execution_count": null,
      "outputs": []
    },
    {
      "cell_type": "code",
      "source": [
        "X_cat = df[['points', 'year', 'varieties_top10_Bordeaux-style Red Blend','varieties_top10_Cabernet Sauvignon', 'varieties_top10_Chardonnay', 'varieties_top10_Merlot', \n",
        "            'varieties_top10_Pinot Noir','varieties_top10_Red Blend', 'varieties_top10_Riesling', 'varieties_top10_Rosé', 'varieties_top10_Sauvignon Blanc', \n",
        "            'varieties_top10_Syrah', 'countries_top10_Argentina', 'countries_top10_Australia', 'countries_top10_Austria', 'countries_top10_Chile', 'countries_top10_France',\n",
        "            'countries_top10_Germany', 'countries_top10_Italy', 'countries_top10_Portugal', 'countries_top10_Spain','countries_top10_US']]\n",
        "y_cat = df['price']\n",
        "\n",
        "X_train_cat, X_test_cat, y_train_cat, y_test_cat = train_test_split(X_cat, y_cat, train_size = 0.75, random_state=19)"
      ],
      "metadata": {
        "id": "sWgMy4-r1hqt"
      },
      "execution_count": null,
      "outputs": []
    },
    {
      "cell_type": "code",
      "source": [
        "# Train the scaler, which standarizes all the features to have mean=0 and unit variance\n",
        "sc_cat = StandardScaler()\n",
        "sc_cat.fit(X_train_cat)\n",
        "\n",
        "# Apply the scaler to the X training data\n",
        "X_train_std_cat = sc_cat.transform(X_train_cat)\n",
        "\n",
        "# Apply the SAME scaler to the X test data\n",
        "X_test_std_cat = sc_cat.transform(X_test_cat)"
      ],
      "metadata": {
        "id": "6uUTMYxG25XY"
      },
      "execution_count": null,
      "outputs": []
    },
    {
      "cell_type": "code",
      "source": [
        "# price_calculated_main_cat = DecisionTreeRegressor(max_depth = 40, min_samples_leaf = 10, min_samples_split = 5, random_state = 19)\n",
        "# price_calculated_main_cat.fit(X_train_cat, y_train_cat)\n",
        "# df['price_calculated'] = price_calculated_main.predict(df[['year', 'points']])\n",
        "# df['price_calculated'] "
      ],
      "metadata": {
        "colab": {
          "base_uri": "https://localhost:8080/"
        },
        "id": "jEompZil3K1g",
        "outputId": "8df84c26-7778-41f4-bce1-ea06d6c851ba"
      },
      "execution_count": null,
      "outputs": [
        {
          "output_type": "execute_result",
          "data": {
            "text/plain": [
              "DecisionTreeRegressor(max_depth=40, min_samples_leaf=10, min_samples_split=5,\n",
              "                      random_state=19)"
            ]
          },
          "metadata": {},
          "execution_count": 38
        }
      ]
    },
    {
      "cell_type": "code",
      "source": [
        "# Without Standardization\n",
        "price_calculated_main_cat = DecisionTreeRegressor(max_depth = 40, min_samples_leaf = 10, min_samples_split = 5, random_state = 19)\n",
        "price_calculated_main_cat.fit(X_train_cat, y_train_cat)\n",
        "print('\\nDECISION TREE REGRESSOR:')\n",
        "print('The train score for the Decision Tree Regressor is:', price_calculated_main_cat.score(X_train_cat, y_train_cat))\n",
        "print('The test score for the Decision Tree Regressor is:', price_calculated_main_cat.score(X_test_cat, y_test_cat))\n",
        "print('\\n')"
      ],
      "metadata": {
        "colab": {
          "base_uri": "https://localhost:8080/"
        },
        "id": "fmqISe183aGE",
        "outputId": "47cd9996-2631-4cb2-c466-9b7633455b1d"
      },
      "execution_count": null,
      "outputs": [
        {
          "output_type": "stream",
          "name": "stdout",
          "text": [
            "\n",
            "DECISION TREE REGRESSOR:\n",
            "The train score for the Decision Tree Regressor is: 0.5869788077888438\n",
            "The test score for the Decision Tree Regressor is: 0.5464554966222455\n",
            "\n",
            "\n"
          ]
        }
      ]
    },
    {
      "cell_type": "code",
      "source": [
        "# With Standardization\n",
        "price_calculated_main_cat_std = DecisionTreeRegressor(max_depth = 40, min_samples_leaf = 10, min_samples_split = 5, random_state = 19)\n",
        "price_calculated_main_cat_std.fit(X_train_std_cat, y_train_cat)\n",
        "print('\\nDECISION TREE REGRESSOR:')\n",
        "print('The train score for the Decision Tree Regressor is:',  price_calculated_main_cat_std.score(X_train_std_cat, y_train_cat))\n",
        "print('The test score for the Decision Tree Regressor is:',  price_calculated_main_cat_std.score(X_test_std_cat, y_test_cat))\n",
        "print('\\n')"
      ],
      "metadata": {
        "colab": {
          "base_uri": "https://localhost:8080/"
        },
        "id": "7hhAFhXu3P8A",
        "outputId": "5ef44913-2cdc-42d6-86e6-db8db72f8ae4"
      },
      "execution_count": null,
      "outputs": [
        {
          "output_type": "stream",
          "name": "stdout",
          "text": [
            "\n",
            "DECISION TREE REGRESSOR:\n",
            "The train score for the Decision Tree Regressor is: 0.5869788077888438\n",
            "The test score for the Decision Tree Regressor is: 0.5464554966222455\n",
            "\n",
            "\n"
          ]
        }
      ]
    },
    {
      "cell_type": "code",
      "source": [
        "y_pred_test_cat = price_calculated_main_cat.predict(X_test_cat)\n",
        "y_pred_train_cat = price_calculated_main_cat.predict(X_train_cat)\n",
        "print('\\nDECISION TREE REGRESSOR without Standardization:')\n",
        "print('\\nTrain:')\n",
        "print('The mean squared error for the Decision Tree Regressor is:', mean_squared_error(y_train, y_pred_train_cat))\n",
        "print('\\nTest:')\n",
        "print('The mean squared error for the Decision Tree Regressor is:', mean_squared_error(y_test, y_pred_test_cat))\n",
        "print('\\n')"
      ],
      "metadata": {
        "colab": {
          "base_uri": "https://localhost:8080/"
        },
        "id": "VM_GQHaX3SSX",
        "outputId": "8e8f6636-30bc-4760-9303-bfa7d7c05d2e"
      },
      "execution_count": null,
      "outputs": [
        {
          "output_type": "stream",
          "name": "stdout",
          "text": [
            "\n",
            "DECISION TREE REGRESSOR without Standardization:\n",
            "\n",
            "Train:\n",
            "The mean squared error for the Decision Tree Regressor is: 397.77293375402235\n",
            "\n",
            "Test:\n",
            "The mean squared error for the Decision Tree Regressor is: 511.9184837982607\n",
            "\n",
            "\n"
          ]
        }
      ]
    },
    {
      "cell_type": "code",
      "source": [
        "y_pred_test_cat_std = price_calculated_main_cat_std.predict(X_test_std_cat)\n",
        "y_pred_train_cat_std = price_calculated_main_cat_std.predict(X_train_std_cat)\n",
        "print('\\nDECISION TREE REGRESSOR without Standardization:')\n",
        "print('\\nTrain:')\n",
        "print('The mean squared error for the Decision Tree Regressor is:', mean_squared_error(y_train_cat, y_pred_train_cat_std))\n",
        "print('\\nTest:')\n",
        "print('The mean squared error for the Decision Tree Regressor is:', mean_squared_error(y_test_cat, y_pred_test_cat_std))\n",
        "print('\\n')"
      ],
      "metadata": {
        "colab": {
          "base_uri": "https://localhost:8080/"
        },
        "id": "kzqP9QuW4vQ5",
        "outputId": "3d2b412f-fde6-4654-cd90-fb803b7c8900"
      },
      "execution_count": null,
      "outputs": [
        {
          "output_type": "stream",
          "name": "stdout",
          "text": [
            "\n",
            "DECISION TREE REGRESSOR without Standardization:\n",
            "\n",
            "Train:\n",
            "The mean squared error for the Decision Tree Regressor is: 397.77293375402235\n",
            "\n",
            "Test:\n",
            "The mean squared error for the Decision Tree Regressor is: 511.9184837982607\n",
            "\n",
            "\n"
          ]
        }
      ]
    },
    {
      "cell_type": "code",
      "source": [
        "# domaine_des_croix_df"
      ],
      "metadata": {
        "id": "A7Akh6yC9C-Y"
      },
      "execution_count": null,
      "outputs": []
    },
    {
      "cell_type": "code",
      "source": [
        "domaine_des_croix_df['varieties_top10_Bordeaux-style Red Blend'].fill()"
      ],
      "metadata": {
        "id": "rQb5fXQf9InU"
      },
      "execution_count": null,
      "outputs": []
    },
    {
      "cell_type": "code",
      "source": [
        "'varieties_top10_Bordeaux-style Red Blend',\n",
        "'varieties_top10_Cabernet Sauvignon', 'varieties_top10_Chardonnay',\n",
        "'varieties_top10_Merlot', 'varieties_top10_Pinot Noir',\n",
        "'varieties_top10_Red Blend', 'varieties_top10_Riesling',\n",
        "'varieties_top10_Rosé', 'varieties_top10_Sauvignon Blanc',\n",
        "'varieties_top10_Syrah', 'countries_top10_Argentina',\n",
        "'countries_top10_Australia', 'countries_top10_Austria',\n",
        "'countries_top10_Chile', 'countries_top10_France',\n",
        "'countries_top10_Germany', 'countries_top10_Italy',\n",
        "'countries_top10_Portugal', 'countries_top10_Spain',\n",
        "'countries_top10_US'"
      ],
      "metadata": {
        "id": "QOEumrA39Y49"
      },
      "execution_count": null,
      "outputs": []
    },
    {
      "cell_type": "code",
      "source": [
        "domaine_des_croix_df['price_calculated'] = price_calculated_main_cat.predict(df[['year', 'points']])\n",
        "domaine_des_croix_df['price_calculated'] "
      ],
      "metadata": {
        "id": "ridtwlR05bvm"
      },
      "execution_count": null,
      "outputs": []
    }
  ]
}